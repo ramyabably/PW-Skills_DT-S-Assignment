{
  "cells": [
    {
      "cell_type": "markdown",
      "metadata": {
        "id": "3MDi9h8eh5XA"
      },
      "source": [
        "**DATA TYPES AND STRUCTURES ASSIGNMENT.**\n",
        "\n",
        "\n",
        "1.) **What  are Data Structures and  why are they important?**\n",
        "Answer) **Data Structures **: Data Structures are specialised formats for organising ,managing and storing data in a way that enables efficient access and modification. They define how data is arranged,related and manipulated.\n",
        "\n",
        "**Importance of Data Structures **: Data  Structures help in Efficient Data Management,Optimized Performance, Code Readability,Maintainability,Enables Complex Algorithms and Memory Optimization.\n",
        "\n",
        "**Examples of some built in Data Structures in Python** :\n",
        "i)** Lists **- Lists  are mutable and  allows duplicate elements.\n",
        "ii)**Tuples **- Tuples are  immutable and allows duplicates.\n",
        "iii) **Sets ** - Sets  are mutable and only allows unique elements.\n",
        "iv)**Dictionaries** - Dictionaries are key value pairs,unordered,muutable and  fast forlookups.\n",
        "\n",
        "  "
      ]
    },
    {
      "cell_type": "markdown",
      "metadata": {
        "id": "IzaZbL4hh4Mm"
      },
      "source": [
        "**2.) Explain the difference between mutable and immutable data  types with examples?**\n",
        "**Answer)** **MUTABLE DATA TYPES :** These Data Types allow modifications after their creation. It is easy to change the content of the object without changing its identity (memory address).\n",
        "\n",
        "**Examples of Mutable Data  Types :**\n",
        "\n",
        "i)**LISTS (list)**\n",
        "         "
      ]
    },
    {
      "cell_type": "code",
      "execution_count": null,
      "metadata": {
        "colab": {
          "base_uri": "https://localhost:8080/"
        },
        "id": "YWzMxXuu3KRH",
        "outputId": "b264a355-bc54-44be-933b-1242db4e3609"
      },
      "outputs": [
        {
          "name": "stdout",
          "output_type": "stream",
          "text": [
            "[10, 2, 3, 4, 5]\n"
          ]
        }
      ],
      "source": [
        "list_example = [1, 2, 3, 4, 5]\n",
        "list_example[0] = 10 # modifies the list\n",
        "print(list_example) # run the program  after this line , below is the given output"
      ]
    },
    {
      "cell_type": "markdown",
      "metadata": {
        "id": "vgegwtPfhxjO"
      },
      "source": [
        "ii) **Dictonaries (dict)**"
      ]
    },
    {
      "cell_type": "code",
      "execution_count": null,
      "metadata": {
        "colab": {
          "base_uri": "https://localhost:8080/"
        },
        "id": "2BSJ6MeA4HIM",
        "outputId": "ed059d6b-173c-457e-86b7-d8ad8556d301"
      },
      "outputs": [
        {
          "name": "stdout",
          "output_type": "stream",
          "text": [
            "{'a': 10, 'b': 2, 'c': 3}\n"
          ]
        }
      ],
      "source": [
        "dict_example = {'a': 1, 'b': 2, 'c': 3}\n",
        "dict_example['a'] = 10 # modifies the dictionary\n",
        "print(dict_example) # run the program  after this line , below is the given output"
      ]
    },
    {
      "cell_type": "markdown",
      "metadata": {
        "id": "UHEEeGXc4aNa"
      },
      "source": [
        "iii) **SETS (set)**"
      ]
    },
    {
      "cell_type": "code",
      "execution_count": null,
      "metadata": {
        "colab": {
          "base_uri": "https://localhost:8080/"
        },
        "id": "3mjdOUOl4oqh",
        "outputId": "f884a9c7-43cf-4d96-9125-0fcfb0c503de"
      },
      "outputs": [
        {
          "name": "stdout",
          "output_type": "stream",
          "text": [
            "{1, 2, 3, 4, 5, 6}\n"
          ]
        }
      ],
      "source": [
        "set_example = {1, 2, 3, 4, 5}\n",
        "set_example.add(6) # modifies the set\n",
        "print(set_example) # run the program  after this line , below is the given output"
      ]
    },
    {
      "cell_type": "markdown",
      "metadata": {
        "id": "fUUBK4VhhFHa"
      },
      "source": [
        "**IMMUTABLE DATA TYPES :** These data types do not allow modifications after their creation.In case if we try to change them , a new object is created in the memory.\n",
        "**Examples of Immutable Data Types :**\n",
        "i) **TUPLES** :"
      ]
    },
    {
      "cell_type": "code",
      "execution_count": null,
      "metadata": {
        "colab": {
          "base_uri": "https://localhost:8080/",
          "height": 159
        },
        "id": "616Ceocco5hd",
        "outputId": "f668f022-25b9-47a6-d655-3b2909233b2a"
      },
      "outputs": [
        {
          "ename": "TypeError",
          "evalue": "'type' object does not support item assignment",
          "output_type": "error",
          "traceback": [
            "\u001b[0;31m---------------------------------------------------------------------------\u001b[0m",
            "\u001b[0;31mTypeError\u001b[0m                                 Traceback (most recent call last)",
            "\u001b[0;32m<ipython-input-1-8591385dd2d2>\u001b[0m in \u001b[0;36m<cell line: 0>\u001b[0;34m()\u001b[0m\n\u001b[1;32m      1\u001b[0m \u001b[0mtuple1\u001b[0m \u001b[0;34m=\u001b[0m \u001b[0;34m(\u001b[0m\u001b[0;36m1\u001b[0m\u001b[0;34m,\u001b[0m\u001b[0;36m2\u001b[0m\u001b[0;34m,\u001b[0m\u001b[0;36m3\u001b[0m\u001b[0;34m)\u001b[0m\u001b[0;34m\u001b[0m\u001b[0;34m\u001b[0m\u001b[0m\n\u001b[0;32m----> 2\u001b[0;31m \u001b[0mtuple\u001b[0m\u001b[0;34m[\u001b[0m\u001b[0;36m0\u001b[0m\u001b[0;34m]\u001b[0m \u001b[0;34m=\u001b[0m \u001b[0;36m4\u001b[0m \u001b[0;31m# Error will be thrown once we run it ,since tuples cannot be changed.\u001b[0m\u001b[0;34m\u001b[0m\u001b[0;34m\u001b[0m\u001b[0m\n\u001b[0m",
            "\u001b[0;31mTypeError\u001b[0m: 'type' object does not support item assignment"
          ]
        }
      ],
      "source": [
        "tuple1 = (1,2,3)\n",
        "tuple[0] = 4 # Error will be thrown once we run it ,since tuples cannot be changed."
      ]
    },
    {
      "cell_type": "markdown",
      "metadata": {
        "id": "52Xy4iTBpVkH"
      },
      "source": [
        "ii)**STRINGS** :"
      ]
    },
    {
      "cell_type": "code",
      "execution_count": null,
      "metadata": {
        "colab": {
          "base_uri": "https://localhost:8080/",
          "height": 159
        },
        "id": "EGc0-nO-pcq3",
        "outputId": "fa0a3fc0-1e50-4657-b5a6-d8baf541d059"
      },
      "outputs": [
        {
          "ename": "TypeError",
          "evalue": "'str' object does not support item assignment",
          "output_type": "error",
          "traceback": [
            "\u001b[0;31m---------------------------------------------------------------------------\u001b[0m",
            "\u001b[0;31mTypeError\u001b[0m                                 Traceback (most recent call last)",
            "\u001b[0;32m<ipython-input-2-f08960f96038>\u001b[0m in \u001b[0;36m<cell line: 0>\u001b[0;34m()\u001b[0m\n\u001b[1;32m      1\u001b[0m \u001b[0mstr1\u001b[0m \u001b[0;34m=\u001b[0m \u001b[0;34m\"Hello\"\u001b[0m\u001b[0;34m\u001b[0m\u001b[0;34m\u001b[0m\u001b[0m\n\u001b[0;32m----> 2\u001b[0;31m \u001b[0mstr1\u001b[0m\u001b[0;34m[\u001b[0m\u001b[0;36m0\u001b[0m\u001b[0;34m]\u001b[0m \u001b[0;34m=\u001b[0m \u001b[0;34m\"P\"\u001b[0m \u001b[0;31m# Error will be thrown once we run it ,since strings cannot be changed or immutable.\u001b[0m\u001b[0;34m\u001b[0m\u001b[0;34m\u001b[0m\u001b[0m\n\u001b[0m",
            "\u001b[0;31mTypeError\u001b[0m: 'str' object does not support item assignment"
          ]
        }
      ],
      "source": [
        "str1 = \"Hello\"\n",
        "str1[0] = \"P\" # Error will be thrown once we run it ,since strings cannot be changed or immutable."
      ]
    },
    {
      "cell_type": "markdown",
      "metadata": {
        "id": "BDx-ycMkp5_B"
      },
      "source": [
        "iii) **Integers,Floats, Booleans ** :"
      ]
    },
    {
      "cell_type": "code",
      "execution_count": null,
      "metadata": {
        "id": "bjXB3RDU4Si3"
      },
      "outputs": [],
      "source": [
        "a = 100\n",
        "a = 300 #  A new object is  created instead of modifying the existing one."
      ]
    },
    {
      "cell_type": "markdown",
      "metadata": {
        "id": "qUjjJ2q2rZ6u"
      },
      "source": [
        "**3.)What  are the main differences between lists and tuples in Python.**"
      ]
    },
    {
      "cell_type": "markdown",
      "metadata": {
        "id": "zkMwONkGr_2j"
      },
      "source": [
        "**Answer)** Lists and Tuples are used to store collections of items in Python, but they have key differences in their mutability, performance and use cases.\n",
        "i) **MUTABILITY : **\n",
        "**LISTS ARE MUTABLE **: One can modify them after the creation(add, remove,change items)\n",
        "**TUPLES ARE IMMUTABLE **: Once created , their  contents cannot be changed."
      ]
    },
    {
      "cell_type": "code",
      "execution_count": null,
      "metadata": {
        "colab": {
          "base_uri": "https://localhost:8080/"
        },
        "id": "lGxzY_2WrYgR",
        "outputId": "01f27703-e6d2-4286-de42-c9de7ae43287"
      },
      "outputs": [
        {
          "name": "stdout",
          "output_type": "stream",
          "text": [
            "[10, 20, 30, 40]\n"
          ]
        }
      ],
      "source": [
        "list1 = [10, 20, 30]\n",
        "list1.append(40) # New entry is accepted as change and modification is allowed in LISTS.\n",
        "print(list1)"
      ]
    },
    {
      "cell_type": "markdown",
      "metadata": {
        "id": "JV5dAlJWuZLX"
      },
      "source": [
        "ii)**Performance** : Tuples are faster in performance than lists  because  they are immutable. Since modification or changing in Tuples is not allowed Python can optimize their storage and retrieval.\n",
        "                    Lists are slower since they allow modificatons, requiring more memory and processing."
      ]
    },
    {
      "cell_type": "markdown",
      "metadata": {
        "id": "cIBf8OigvcRr"
      },
      "source": [
        "iii)**Memory Usage :** Tuples use less memory than lists  because they do not require extra space for dynamic resizing. Lists require more money because they  maintain extra space for modifications."
      ]
    },
    {
      "cell_type": "markdown",
      "metadata": {
        "id": "g3eokcQryR2j"
      },
      "source": [
        "iv)**Methods and Functionality ** : Lists have more  built in methods.(example append(), remove(), sort()) because they are designed for dynamic changes.\n",
        "Tuples have fewer methods  (only. count () and .index()) since they are immutable."
      ]
    },
    {
      "cell_type": "code",
      "execution_count": null,
      "metadata": {
        "colab": {
          "base_uri": "https://localhost:8080/"
        },
        "id": "msb9bf4pzY2t",
        "outputId": "e5c0a2d4-ca43-42a7-8957-336888a864a7"
      },
      "outputs": [
        {
          "name": "stdout",
          "output_type": "stream",
          "text": [
            "[11, 12, 13, 14]\n"
          ]
        }
      ],
      "source": [
        "list_A = [11, 12, 13]\n",
        "list_A.append(14) # new entry  is allowed in the list\n",
        "print(list_A) # works with lists."
      ]
    },
    {
      "cell_type": "code",
      "execution_count": null,
      "metadata": {
        "colab": {
          "base_uri": "https://localhost:8080/",
          "height": 193
        },
        "id": "ALGStHxn0Gwh",
        "outputId": "fa2e2f9a-35c0-45c0-9462-6e2e3f773ba3"
      },
      "outputs": [
        {
          "ename": "AttributeError",
          "evalue": "'tuple' object has no attribute 'append'",
          "output_type": "error",
          "traceback": [
            "\u001b[0;31m---------------------------------------------------------------------------\u001b[0m",
            "\u001b[0;31mAttributeError\u001b[0m                            Traceback (most recent call last)",
            "\u001b[0;32m<ipython-input-15-98bed02feec0>\u001b[0m in \u001b[0;36m<cell line: 0>\u001b[0;34m()\u001b[0m\n\u001b[1;32m      1\u001b[0m \u001b[0;31m# Tuples do not support adding elements.\u001b[0m\u001b[0;34m\u001b[0m\u001b[0;34m\u001b[0m\u001b[0m\n\u001b[1;32m      2\u001b[0m \u001b[0mtuple1\u001b[0m\u001b[0;34m=\u001b[0m\u001b[0;34m(\u001b[0m\u001b[0;36m1\u001b[0m\u001b[0;34m,\u001b[0m \u001b[0;36m2\u001b[0m\u001b[0;34m,\u001b[0m \u001b[0;36m3\u001b[0m\u001b[0;34m,\u001b[0m \u001b[0;36m4\u001b[0m\u001b[0;34m)\u001b[0m\u001b[0;34m\u001b[0m\u001b[0;34m\u001b[0m\u001b[0m\n\u001b[0;32m----> 3\u001b[0;31m \u001b[0mtuple1\u001b[0m\u001b[0;34m.\u001b[0m\u001b[0mappend\u001b[0m\u001b[0;34m(\u001b[0m\u001b[0;36m5\u001b[0m\u001b[0;34m)\u001b[0m \u001b[0;31m# error is thrown as they do not allow modifications.\u001b[0m\u001b[0;34m\u001b[0m\u001b[0;34m\u001b[0m\u001b[0m\n\u001b[0m\u001b[1;32m      4\u001b[0m \u001b[0mprint\u001b[0m\u001b[0;34m(\u001b[0m\u001b[0mtuple1\u001b[0m\u001b[0;34m)\u001b[0m\u001b[0;34m\u001b[0m\u001b[0;34m\u001b[0m\u001b[0m\n",
            "\u001b[0;31mAttributeError\u001b[0m: 'tuple' object has no attribute 'append'"
          ]
        }
      ],
      "source": [
        "# Tuples do not support adding elements.\n",
        "tuple1=(1, 2, 3, 4)\n",
        "tuple1.append(5) # error is thrown as they do not allow modifications.\n",
        "print(tuple1)"
      ]
    },
    {
      "cell_type": "markdown",
      "metadata": {
        "id": "VKaa-PKx02um"
      },
      "source": [
        "4.) **Describe how dictionaries store data in Python.**"
      ]
    },
    {
      "cell_type": "markdown",
      "metadata": {
        "id": "dBJMHLRr2V9R"
      },
      "source": [
        "In Python, dictionaries store dataas key value  pairs using a hash table.This allows for the  fast retrieval,insertion and deletion of elements.\n",
        "i)**Dictionary Structure** : A dictionary consists  of :\n",
        "**KEYS **: Unique and immutable( example : strings,numbers,tuples)\n",
        "**VALUES** Can be any data type (example : lists, other dictionaries). Each key is mapped to a value,  allowing quick access using the  key.\n",
        "ii)**How dictionaries store data  internally :** Python dictionaries use a hash table internally.Here is how it  works internally.\n",
        "A) **Hashing the Key** : When a key is added, Python computes a hash  value using the hash() function, which determines  where the key value pair  will be stored in the  memory.\n",
        "B)**Storing in a Hash  Table :** The dictionary maintains an array (table) where each slot corresponds to  a different  hash value.If two keys have the same hash,Python handles it using open addressing.\n",
        "iii)**Fast lookup using hashing ** : When retrieving a value {dict_1['name']},Python hashes the key and finds the exact memory location.This makes lookup0(1)(constant time) in most cases.\n"
      ]
    },
    {
      "cell_type": "code",
      "execution_count": null,
      "metadata": {
        "colab": {
          "base_uri": "https://localhost:8080/"
        },
        "id": "pqrzl-OmPDsx",
        "outputId": "cf428c8d-c5af-4503-f170-7c54f779c9c6"
      },
      "outputs": [
        {
          "name": "stdout",
          "output_type": "stream",
          "text": [
            "Ramya\n"
          ]
        }
      ],
      "source": [
        "# example\n",
        "my_dict = {'name': 'Ramya', 'age': 25, 'city': 'INDIA'}\n",
        "print(my_dict['name'])"
      ]
    },
    {
      "cell_type": "markdown",
      "metadata": {
        "id": "J-WkcpgMP-MO"
      },
      "source": [
        "iv) **Dictionary Growth and Resizing** : Dictionaries dynamically resize when they become too full.When its almost full, Python expands the table to reduce\n",
        "collisions and  rehashes all keys.  "
      ]
    },
    {
      "cell_type": "code",
      "execution_count": null,
      "metadata": {
        "colab": {
          "base_uri": "https://localhost:8080/"
        },
        "id": "5jjpzDgtQ7Xy",
        "outputId": "bc7f960e-5ca3-4103-965b-92b92c814d83"
      },
      "outputs": [
        {
          "name": "stdout",
          "output_type": "stream",
          "text": [
            "MARY\n"
          ]
        }
      ],
      "source": [
        "# Examples of Dictionary Operations\n",
        "person = {'Name' : 'MARY','Age' : '35','City' : 'Bangalore' } #creating a dictionary.\n",
        "person['job'] = 'Doctor' # adding a key value  pair\n",
        "person['age'] = 38 # modifying a value\n",
        "del person['City'] # deleting a key value pair\n",
        "print(person['Name']) # accessing a value and getting the particular output\n"
      ]
    },
    {
      "cell_type": "markdown",
      "metadata": {
        "id": "Rqwi1lV_THsS"
      },
      "source": [
        "**5).Why you might use a set instead of a list in Python?**\n",
        "**Answer)** A SET and a LIST both store collections of items, but sets offer  unique advantages in certain situations. Below are the unique features offered by sets over a list ;\n",
        "i) UNIQUENESS (no duplicates) : A SET  automatically removes  duplicate values,ensuring that all the  elements are unique.A LIST  allows duplicates, so one can manually check them.\n",
        "#Example"
      ]
    },
    {
      "cell_type": "code",
      "execution_count": null,
      "metadata": {
        "colab": {
          "base_uri": "https://localhost:8080/"
        },
        "id": "Tn7oK8LqVARj",
        "outputId": "0dc626bd-e319-43e5-e6f0-34c283f2980b"
      },
      "outputs": [
        {
          "name": "stdout",
          "output_type": "stream",
          "text": [
            "[1, 3, 4, 5, 8, 9]\n"
          ]
        }
      ],
      "source": [
        "#Example showing list which allows duplicates\n",
        "list1 = [1, 3, 4, 3, 4, 5, 8, 9, 9]\n",
        "unique_list1 = list(set(list1)) # removes the duplicate entries in the list\n",
        "print(unique_list1)"
      ]
    },
    {
      "cell_type": "code",
      "execution_count": null,
      "metadata": {
        "colab": {
          "base_uri": "https://localhost:8080/"
        },
        "id": "976zdw13V2cw",
        "outputId": "52f5f75c-a042-449f-e41e-22c53b374108"
      },
      "outputs": [
        {
          "name": "stdout",
          "output_type": "stream",
          "text": [
            "{1, 3, 4, 5, 8, 9}\n"
          ]
        }
      ],
      "source": [
        "# Example showing a Set  ensuring uniqueness automatically\n",
        "set = {1, 3, 4, 3, 4, 5, 8, 9, 9}\n",
        "print(set)\n"
      ]
    },
    {
      "cell_type": "markdown",
      "metadata": {
        "id": "fdXovUAjWMJC"
      },
      "source": [
        "ii)Faster lookups : Sets provide O(1) average time complexity for checking if  an item exists, while lists  take O(n) time since they must scan  all the elements."
      ]
    },
    {
      "cell_type": "code",
      "execution_count": null,
      "metadata": {
        "colab": {
          "base_uri": "https://localhost:8080/"
        },
        "id": "1YEZIaOSWtIR",
        "outputId": "2eeb2765-d763-44c5-d00e-8d9bbb6c74a1"
      },
      "outputs": [
        {
          "name": "stdout",
          "output_type": "stream",
          "text": [
            "True\n"
          ]
        }
      ],
      "source": [
        "# Checking membership in a list (O(n))\n",
        "list = [1, 2, 3, 4, 5, 6, 9]\n",
        "print(9 in list) # slower (scans the whole list)\n"
      ]
    },
    {
      "cell_type": "code",
      "execution_count": null,
      "metadata": {
        "colab": {
          "base_uri": "https://localhost:8080/"
        },
        "id": "UnpCw5t7YD7x",
        "outputId": "76014820-e99a-4f45-a88b-8ebbae088d93"
      },
      "outputs": [
        {
          "name": "stdout",
          "output_type": "stream",
          "text": [
            "True\n"
          ]
        }
      ],
      "source": [
        "# Checking membership in a set(O(1))\n",
        "set1 = {1, 2, 3, 4, 5, 6, 9}\n",
        "print(3 in set1) # faster (uses hashing)"
      ]
    },
    {
      "cell_type": "markdown",
      "metadata": {
        "id": "Egxp7vpHYkC0"
      },
      "source": [
        "iii)Faster removal and insertion : Inserting or deleting elements in a set is much faster (O(1)) compared to a list (O(n)), which may  require shifting elements."
      ]
    },
    {
      "cell_type": "code",
      "execution_count": null,
      "metadata": {
        "colab": {
          "base_uri": "https://localhost:8080/"
        },
        "id": "CUsk-dqmZBT4",
        "outputId": "c70c2f3b-d8f7-4945-92a9-fc90c71f2ea8"
      },
      "outputs": [
        {
          "name": "stdout",
          "output_type": "stream",
          "text": [
            "{56, 94, 11, 78}\n"
          ]
        }
      ],
      "source": [
        "# Example showing removing single element from the list\n",
        "list = {11, 34, 56, 78, 94}\n",
        "list.remove(34)\n",
        "print(list) # needs to search for the element first\n",
        "\n"
      ]
    },
    {
      "cell_type": "code",
      "execution_count": null,
      "metadata": {
        "colab": {
          "base_uri": "https://localhost:8080/"
        },
        "id": "92oh7AMpZ15J",
        "outputId": "b9a083ac-c8ad-436a-e87a-9269b3052624"
      },
      "outputs": [
        {
          "name": "stdout",
          "output_type": "stream",
          "text": [
            "{56, 94, 11, 78}\n"
          ]
        }
      ],
      "source": [
        "#Removing from a set (O(1))\n",
        "set1 = {11, 34, 56, 78, 94}\n",
        "set1.remove(34)\n",
        "print(set1) # directly removes using  hashing"
      ]
    },
    {
      "cell_type": "markdown",
      "metadata": {
        "id": "Dom8FPdaacsR"
      },
      "source": [
        "iv) Sets support mathematical operations like union,intersection, and difference, which are not directly available for lists."
      ]
    },
    {
      "cell_type": "code",
      "execution_count": null,
      "metadata": {
        "colab": {
          "base_uri": "https://localhost:8080/"
        },
        "id": "8s7uNNTfab5S",
        "outputId": "48adfc7e-ae29-4978-fb34-65e6d71cc998"
      },
      "outputs": [
        {
          "name": "stdout",
          "output_type": "stream",
          "text": [
            "{1, 2, 3, 4, 5, 6, 7, 8}\n",
            "{4, 5}\n",
            "{1, 2, 3}\n"
          ]
        }
      ],
      "source": [
        "# Example  showing differrent set operations\n",
        "set_a = {1, 2, 3, 4, 5}\n",
        "set_b = {4, 5, 6, 7, 8}\n",
        "print(set_a | set_b) # union of sets which combines the two given sets.\n",
        "print(set_a & set_b) # intersection of the two  given sets.\n",
        "print(set_a - set_b) # difference of the two given sets."
      ]
    },
    {
      "cell_type": "markdown",
      "metadata": {
        "id": "23h2F1uLbhWX"
      },
      "source": [
        "Use a SET instead of a LIST when :\n",
        ">> You need unique elements( no duplicates.)\n",
        ">> You frequently check for membership\n",
        ">> You need fast insertions and deletions.\n",
        ">> You need set opeartions (union, intersection etc)\n"
      ]
    },
    {
      "cell_type": "markdown",
      "metadata": {
        "id": "R2NFRi8YcaTa"
      },
      "source": [
        "**6.) What is a string in Python and  how is it different from a list?**\n",
        "Answer) In Python, String is an immutable sequence of characters used to represent  textual data.Strings can be created by enclosing characters within single('...') or double(\"...)quotes.\n",
        "Key characteristics of strings being Immutability(Once a string is created, its content cannot be altered) and Sequence Behaviour(Strings support sequence operations such as indexing, slicing and iteration)\n",
        "DIFFERENCES BETWEEN STRINGS AND LISTS ,\n",
        "i)Mutability : Strings are  Immutable  whereas Lists are Mutable.\n",
        "ii)Data  Types Of Elements : Strings contain solely of characters whereas Lists  contain various data types like integers,floats,strings.\n",
        "iii)Operations and Methods : Strings offer methods specific to text processing and Lists  provide methods for modifying the  list.\n"
      ]
    },
    {
      "cell_type": "code",
      "execution_count": null,
      "metadata": {
        "colab": {
          "base_uri": "https://localhost:8080/"
        },
        "id": "aEbXC6NUfoAH",
        "outputId": "00715b1f-101d-4a30-c3dc-98e5e41c506d"
      },
      "outputs": [
        {
          "name": "stdout",
          "output_type": "stream",
          "text": [
            "PYTHON PW SKILLS\n"
          ]
        }
      ],
      "source": [
        "#Example for string methods\n",
        "text = \"Python PW Skills\"\n",
        "print(text.upper())"
      ]
    },
    {
      "cell_type": "code",
      "execution_count": null,
      "metadata": {
        "colab": {
          "base_uri": "https://localhost:8080/"
        },
        "id": "NcrqHh4agA77",
        "outputId": "c1a6b3b2-312b-44c4-c9f9-65333fa70e5e"
      },
      "outputs": [
        {
          "name": "stdout",
          "output_type": "stream",
          "text": [
            "[1, 2, 3, 4, 5]\n"
          ]
        }
      ],
      "source": [
        "# example for list methods\n",
        "items = [1, 2, 3, 4]\n",
        "items.append(5)\n",
        "print(items)"
      ]
    },
    {
      "cell_type": "markdown",
      "metadata": {
        "id": "BfaXvGEpht-7"
      },
      "source": [
        "iv)Usage Scenarios : Strings are Ideal for  representing and manipulating textual data where the sequence of characters remains constant.Lists  are suitable for collection of items that may  need modifications, especially when dealing with heterogeneous data types."
      ]
    },
    {
      "cell_type": "markdown",
      "metadata": {
        "id": "ERgU6VNTikFN"
      },
      "source": [
        "7.)**How do Tuples ensure data integrity in python?**\n",
        "Answer)Tuples ensure data integrity in Python through immutability and hashability.\n",
        "i)**Immutability :** Once a tuple is created, its elements cannot be modified ,added or removed.This prevents accidental changes ,making tuples ideal for storing constant or fixed data."
      ]
    },
    {
      "cell_type": "code",
      "execution_count": null,
      "metadata": {
        "colab": {
          "base_uri": "https://localhost:8080/",
          "height": 193
        },
        "id": "v2EYpMtBqlFy",
        "outputId": "9abdeb51-e0ce-4a7c-8ad0-69adcb4c9f4a"
      },
      "outputs": [
        {
          "ename": "TypeError",
          "evalue": "'tuple' object does not support item assignment",
          "output_type": "error",
          "traceback": [
            "\u001b[0;31m---------------------------------------------------------------------------\u001b[0m",
            "\u001b[0;31mTypeError\u001b[0m                                 Traceback (most recent call last)",
            "\u001b[0;32m<ipython-input-3-3af64ce361c9>\u001b[0m in \u001b[0;36m<cell line: 0>\u001b[0;34m()\u001b[0m\n\u001b[1;32m      1\u001b[0m \u001b[0;31m#Example to illustrate tuple Immutability.\u001b[0m\u001b[0;34m\u001b[0m\u001b[0;34m\u001b[0m\u001b[0m\n\u001b[1;32m      2\u001b[0m \u001b[0mtuple1\u001b[0m \u001b[0;34m=\u001b[0m \u001b[0;34m(\u001b[0m\u001b[0;36m1\u001b[0m\u001b[0;34m,\u001b[0m \u001b[0;36m2\u001b[0m\u001b[0;34m,\u001b[0m \u001b[0;36m3\u001b[0m\u001b[0;34m,\u001b[0m \u001b[0;36m9\u001b[0m\u001b[0;34m)\u001b[0m\u001b[0;34m\u001b[0m\u001b[0;34m\u001b[0m\u001b[0m\n\u001b[0;32m----> 3\u001b[0;31m \u001b[0mtuple1\u001b[0m\u001b[0;34m[\u001b[0m\u001b[0;36m0\u001b[0m\u001b[0;34m]\u001b[0m \u001b[0;34m=\u001b[0m \u001b[0;36m10\u001b[0m\u001b[0;34m\u001b[0m\u001b[0;34m\u001b[0m\u001b[0m\n\u001b[0m\u001b[1;32m      4\u001b[0m \u001b[0mprint\u001b[0m\u001b[0;34m(\u001b[0m\u001b[0;34m'tuple1'\u001b[0m\u001b[0;34m)\u001b[0m\u001b[0;34m\u001b[0m\u001b[0;34m\u001b[0m\u001b[0m\n",
            "\u001b[0;31mTypeError\u001b[0m: 'tuple' object does not support item assignment"
          ]
        }
      ],
      "source": [
        "#Example to illustrate tuple Immutability .\n",
        "tuple1 = (1, 2, 3, 9)\n",
        "tuple1[0] = 10\n",
        "print('tuple1') # raises Type Error."
      ]
    },
    {
      "cell_type": "markdown",
      "metadata": {
        "id": "HduW3FZ-rrtf"
      },
      "source": [
        "ii)**Hashability :** Tuples can be used as keys in dictionaries and elements in sets(if all their elements are also hashable)."
      ]
    },
    {
      "cell_type": "code",
      "execution_count": null,
      "metadata": {
        "colab": {
          "base_uri": "https://localhost:8080/"
        },
        "id": "AkL_h__9r_bk",
        "outputId": "db21f75c-5d60-4560-b9a8-b9e6f6352be7"
      },
      "outputs": [
        {
          "name": "stdout",
          "output_type": "stream",
          "text": [
            "value1\n",
            "value2\n"
          ]
        }
      ],
      "source": [
        "#Example\n",
        "dict = {(1, 2): \"value1\", (3, 4): \"value2\"}\n",
        "print(dict[(1, 2)])\n",
        "print(dict[(3,4)])"
      ]
    },
    {
      "cell_type": "markdown",
      "metadata": {
        "id": "oGBvu_u3s8dV"
      },
      "source": [
        "iii) Safe data  Transfer: Since Tuples cannot be modified, they are useful when passing data  between functions to prevent unintended changes.\n"
      ]
    },
    {
      "cell_type": "markdown",
      "metadata": {
        "id": "6rUQpgQptWMB"
      },
      "source": [
        "iv)Consistency in Multi-threading : Tuples provide a thread safe way to store and access data without the  risk of modification by other threads.\n",
        "Therefore by being immutable and hashable,tuples help maintain data  consistency, security and reliability in Python programs."
      ]
    },
    {
      "cell_type": "markdown",
      "metadata": {
        "id": "lhJDFugtuDBO"
      },
      "source": [
        "8.)**What is a Hash  table and how does it relate  to dictionaries in Python.**"
      ]
    },
    {
      "cell_type": "markdown",
      "metadata": {
        "id": "40tU9cl52OUn"
      },
      "source": [
        "**Answer)** A Hash Table is a data  structure that stores key value pairs.It uses a hash function to compute an index (or  hash code) for each key,allowing for fast data retrieval. The key is mapped to a unique  index where the corresponding value is  stored.This makes lookups, insertions and deletions very efficient, typically O(1) in a average time complexity.\n",
        "**Hash Tables are related to Python Dictionaries in the following ways :**\n",
        "i**)KEYS ARE HASHED:** When one stores a key value pair in a dictionary,Pyhton computes a hash value for the key using the built in hash () function.\n",
        "ii)**EFFICIENT LOOKUP:** The hash value determines where  the key value pair is stored in the memory, making lookups fast.\n",
        "iii)**Handling collisions** : If two keys produce the same hash ,Python uses a technique lilke probing or  chaining to handle the collision.\n",
        "iv)**Dynamic  Resizing ** : As the dictionary  grows, Python resizes the underlying table to maintain efficiency.\n"
      ]
    },
    {
      "cell_type": "code",
      "execution_count": null,
      "metadata": {
        "colab": {
          "base_uri": "https://localhost:8080/"
        },
        "id": "ERBn-RSm5tAs",
        "outputId": "3f80943a-fd25-43c3-992e-57633ba8eed6"
      },
      "outputs": [
        {
          "name": "stdout",
          "output_type": "stream",
          "text": [
            "Ramya\n",
            "25\n"
          ]
        }
      ],
      "source": [
        "#Example\n",
        "dict_1 = {'name': 'Ramya', 'age': 25, 'city': 'INDIA'} # creating a dictionary\n",
        "print(dict_1['name'])\n",
        "dict_1['job'] = 'Doctor' # adding a key value  pair\n",
        "if 'age' in dict_1: # checking if a key exists\n",
        "  print(dict_1['age'])"
      ]
    },
    {
      "cell_type": "markdown",
      "metadata": {
        "id": "yPhSXIzuCuAx"
      },
      "source": [
        "Therefore we can conclude that, Dictionaries use hash tables internally  for fast lookups.Only  immutable  objects (like strings,numbers or tuples) can be dictionary keys since they must be hashable."
      ]
    },
    {
      "cell_type": "markdown",
      "metadata": {
        "id": "NViMoM5nDP_r"
      },
      "source": [
        "**9.)Can lists contain different data types in Python.**\n",
        "**Answer)** YES, Lists in Python can contain different data types .Python  lists are dynamic and  can store elements of varying types, including integers,floats,strings,booleans,  other lists, dictionaries or even custom objects."
      ]
    },
    {
      "cell_type": "code",
      "execution_count": null,
      "metadata": {
        "colab": {
          "base_uri": "https://localhost:8080/"
        },
        "id": "oYfHomvpPFII",
        "outputId": "5a7f4957-55b0-4981-e099-e726cd55413a"
      },
      "outputs": [
        {
          "name": "stdout",
          "output_type": "stream",
          "text": [
            "(42, 8.95, 'Hello', True, [1, 2, 3], {'name': 'Ramya', 'age': 25})\n"
          ]
        }
      ],
      "source": [
        "# example of a list with mixed data  types\n",
        "list = (42, 8.95,\"Hello\", True, [1, 2, 3], {'name': 'Ramya', 'age': 25})\n",
        "print(list)\n",
        "\n",
        "\n"
      ]
    },
    {
      "cell_type": "markdown",
      "metadata": {
        "id": "ZjoucDETc0wf"
      },
      "source": [
        "Therefore , this flexibility makes lists a powerful and versatile data structure in Python."
      ]
    },
    {
      "cell_type": "markdown",
      "metadata": {
        "id": "X8BM3llFdEXw"
      },
      "source": [
        "10**)Explain why strings are immutable in python.**\n",
        "**Answer)** Strings are immutable in Python because they are  stored in memory as fixed sequences of characters.This design choice improves performance,security, and memory efficiency by allowing Python to safely share and reuse string objects without unintended modifications.If a string needs to be changed, a new string object is created instead of modifying the original."
      ]
    },
    {
      "cell_type": "markdown",
      "metadata": {
        "id": "tcRx6AsJeQBg"
      },
      "source": [
        "**11.)  What advantages do  dictionaries  offer over  lists  for certain tasks in Python?**\n",
        "Dictionaries in Python offer several  advantages over lists  for certain tasks, due to their key value structure and efficient lookups.Below are some of the  key benefits:\n",
        "i)Faster  lookups : Dictionaries use a hash table internally, allowing average time complexity for lookups.\n",
        "ii)Meaningful Data Representation: Dictionaries store data  in key value pairs,making it more readable  and  meaningful.\n",
        "Lists store data in an ordered sequence, which can make retrieval less intuitive.\n",
        "iii)Efficient data modification: Dictionaries can update or delete elements quickly whereas Lists require searching for  elements before  modifying them.\n",
        "iv)No Need for  Ordered Indices: Dictionaries allow direct access to values without maintaining a fixed order.Lists  require maintaining the order  of the elements.\n",
        "v)Eliminates Duplicate Keys : Dictionaries ensure that each key is  unique.Whereas Lists allow duplicate  values, which may lead to inconsistencies."
      ]
    },
    {
      "cell_type": "markdown",
      "metadata": {
        "id": "B6T4gvT1hVN1"
      },
      "source": [
        "**12.) Describe a scenario where using a tuple would be  preferable over a list in Python.**\n",
        "**Answer) ** A tuple is preferable over a list in scenarios where immuatability, performance or data integrity is important. One such scenario is using tuples a dictionary keys."
      ]
    },
    {
      "cell_type": "code",
      "execution_count": null,
      "metadata": {
        "colab": {
          "base_uri": "https://localhost:8080/"
        },
        "id": "m9Ibc1MRiE9p",
        "outputId": "d24fc75e-b25b-47ff-9f69-db7975f2ce92"
      },
      "outputs": [
        {
          "name": "stdout",
          "output_type": "stream",
          "text": [
            "value1\n"
          ]
        }
      ],
      "source": [
        "# prompt: dictionary with tuple keys\n",
        "\n",
        "my_dict = {\n",
        "    (1, 2): 'value1',\n",
        "    (3, 4): 'value2',\n",
        "}\n",
        "\n",
        "print(my_dict[(1, 2)])  # Accessing value using tuple key\n"
      ]
    },
    {
      "cell_type": "markdown",
      "metadata": {
        "id": "pvedJBHhiXpW"
      },
      "source": [
        "**13.)HOw do sets handle duplicate values in Python?**\n",
        "Answer) In Python,sets automatically remove duplicate  values because they are designed to store only unique elements.If we try to add a duplicate value to a set, it will be ignored."
      ]
    },
    {
      "cell_type": "code",
      "execution_count": null,
      "metadata": {
        "colab": {
          "base_uri": "https://localhost:8080/"
        },
        "id": "MGjOOvSHjdbi",
        "outputId": "ee085fa2-83fa-4479-c62a-5e237ae7fd81"
      },
      "outputs": [
        {
          "name": "stdout",
          "output_type": "stream",
          "text": [
            "{1, 2, 3}\n"
          ]
        }
      ],
      "source": [
        "# prompt: creating a set with duplicates\n",
        "\n",
        "my_set = {1, 2, 2, 3, 3, 3}\n",
        "print(my_set)  # Output: {1, 2, 3}\n"
      ]
    },
    {
      "cell_type": "code",
      "execution_count": null,
      "metadata": {
        "id": "t4DD287Mjong"
      },
      "outputs": [],
      "source": [
        "Therefore Sets automatically remove the duplicate values in Python.\n"
      ]
    },
    {
      "cell_type": "markdown",
      "metadata": {
        "id": "dK4qzij-kZ4J"
      },
      "source": [
        "**14.)how does 'in' keyword work differently for  list and dictioonaries in python**\n",
        "Answer)The in keyword is used to check for membership in different data structures in Python, but it behaves differently for lists and dictionaries.\n",
        "i) IN with Lists :\n",
        "Checks for presence of a value.\n",
        "Performs a linear search (O(n) time complexity)."
      ]
    },
    {
      "cell_type": "code",
      "execution_count": null,
      "metadata": {
        "colab": {
          "base_uri": "https://localhost:8080/"
        },
        "id": "HSD4lsSalTPO",
        "outputId": "777ce987-1628-4ab2-b92a-e0f642c8c938"
      },
      "outputs": [
        {
          "name": "stdout",
          "output_type": "stream",
          "text": [
            "True\n",
            "False\n"
          ]
        }
      ],
      "source": [
        "# Example\n",
        "my_list = [10, 20, 30, 40]\n",
        "print(20 in my_list) # output true\n",
        "print(50 in my_list)#output false"
      ]
    },
    {
      "cell_type": "markdown",
      "metadata": {
        "id": "UcWaa2splg4p"
      },
      "source": [
        "ii)IN with Dictionaries\n",
        "Checks for presence of a key (NOT values).\n",
        "Uses a hash table lookup (O(1) average time complexity)."
      ]
    },
    {
      "cell_type": "code",
      "execution_count": null,
      "metadata": {
        "colab": {
          "base_uri": "https://localhost:8080/"
        },
        "id": "hCpsBIGxlrlI",
        "outputId": "9dc3843d-4229-46e5-9af8-ad2c08b457e6"
      },
      "outputs": [
        {
          "name": "stdout",
          "output_type": "stream",
          "text": [
            "True\n",
            "False\n"
          ]
        }
      ],
      "source": [
        "#example\n",
        "my_dict = {'a': 1, 'b': 2, 'c': 3}\n",
        "print('a' in my_dict)  # Output: True\n",
        "print(2 in my_dict)    # Output: False (checks keys, not values)\n"
      ]
    },
    {
      "cell_type": "markdown",
      "metadata": {
        "id": "CDT1LNUyl96_"
      },
      "source": [
        "Therefore IN keyword checks for the presence of the  element in the list and works  efficiently in Python."
      ]
    },
    {
      "cell_type": "markdown",
      "metadata": {
        "id": "3nAhceCBmP6t"
      },
      "source": [
        "1**5.)Can you modify the elements  of  a tuple explain why or why not ?**\n",
        "Answer)Tuples in Python are immutable, which means that once a tuple is created, its elements cannot be changed, added, or removed. This design choice is intentional and offers several advantages, such as allowing tuples to be used as keys in dictionaries and providing performance optimizations in certain contexts.\n",
        "Key Points:\n",
        "Immutability:\n",
        "Once you create a tuple, its size and contents remain fixed. Attempting to modify an element in a tuple will result in a TypeError."
      ]
    },
    {
      "cell_type": "code",
      "execution_count": null,
      "metadata": {
        "colab": {
          "base_uri": "https://localhost:8080/"
        },
        "id": "MBwMcj4VttSw",
        "outputId": "a2dc0719-f17d-49cd-ff05-4c064c38b118"
      },
      "outputs": [
        {
          "name": "stdout",
          "output_type": "stream",
          "text": [
            "'tuple' object does not support item assignment\n"
          ]
        }
      ],
      "source": [
        "# Example\n",
        "my_tuple = (1, 2, 3)\n",
        "# Trying to change the first element\n",
        "try:\n",
        "    my_tuple[0] = 10\n",
        "except TypeError as e:\n",
        "    print(e)  # Output: 'tuple' object does not support item assignment\n"
      ]
    },
    {
      "cell_type": "markdown",
      "metadata": {
        "id": "mixL48oct45v"
      },
      "source": [
        "Why Tuples Are Immutable:\n",
        "The immutability of tuples provides a guarantee that the data they contain will not change throughout the program. This can be particularly useful when you need a constant set of values or want to ensure that the data used as a key in a dictionary remains unchanged.\n",
        "\n",
        "Mutable Elements Within Tuples:\n",
        "Although the tuple itself is immutable, if it contains a mutable object (like a list), the contents of that mutable object can be modified."
      ]
    },
    {
      "cell_type": "code",
      "execution_count": null,
      "metadata": {
        "colab": {
          "base_uri": "https://localhost:8080/"
        },
        "id": "A0E7trMCt9Cm",
        "outputId": "45d17232-9c73-4015-b9b4-4c1998e4a0d3"
      },
      "outputs": [
        {
          "name": "stdout",
          "output_type": "stream",
          "text": [
            "([1, 2, 3, 4], 4, 5)\n"
          ]
        }
      ],
      "source": [
        "# Example\n",
        "my_tuple = ([1, 2, 3], 4, 5)\n",
        "# Modifying the list within the tuple\n",
        "my_tuple[0].append(4)\n",
        "print(my_tuple)  # Output: ([1, 2, 3, 4], 4, 5)\n"
      ]
    },
    {
      "cell_type": "markdown",
      "metadata": {
        "id": "T-smlARJuLUz"
      },
      "source": [
        "In this case, while the tuple’s structure remains unchanged (it still has three elements), the mutable object within it (the list) can be modified.\n",
        "       This immutability is one of the defining characteristics of tuples in Python and is crucial for their use in contexts where data integrity and hashability are important."
      ]
    },
    {
      "cell_type": "markdown",
      "metadata": {
        "id": "70FyerV_udEb"
      },
      "source": [
        "**16.) What is a nested  dictionary and give an example of its  use case.**\n",
        "Answer) A nested dictionary in Python is a dictionary where one or more of its values is also a dictionary. This structure is useful for representing hierarchical or multi-level data, allowing you to organize related information in a clear and accessible way."
      ]
    },
    {
      "cell_type": "code",
      "execution_count": null,
      "metadata": {
        "colab": {
          "base_uri": "https://localhost:8080/"
        },
        "id": "nDPaDsEvu7Nc",
        "outputId": "affe054a-69c0-4769-daf2-84ea6ca3c09b"
      },
      "outputs": [
        {
          "name": "stdout",
          "output_type": "stream",
          "text": [
            "Alice's email: alice@example.com\n"
          ]
        }
      ],
      "source": [
        "# example\n",
        "# A nested dictionary representing employees and their details\n",
        "employees = {\n",
        "    \"emp001\": {\n",
        "        \"name\": \"Alice Johnson\",\n",
        "        \"department\": \"Engineering\",\n",
        "        \"role\": \"Software Engineer\",\n",
        "        \"contact\": {\n",
        "            \"email\": \"alice@example.com\",\n",
        "            \"phone\": \"555-0101\"\n",
        "        }\n",
        "    },\n",
        "    \"emp002\": {\n",
        "        \"name\": \"Bob Smith\",\n",
        "        \"department\": \"Marketing\",\n",
        "        \"role\": \"Marketing Manager\",\n",
        "        \"contact\": {\n",
        "            \"email\": \"bob@example.com\",\n",
        "            \"phone\": \"555-0202\"\n",
        "        }\n",
        "    }\n",
        "}\n",
        "\n",
        "# Accessing nested dictionary data:\n",
        "# Get Alice's email:\n",
        "alice_email = employees[\"emp001\"][\"contact\"][\"email\"]\n",
        "print(f\"Alice's email: {alice_email}\")  # Output: Alice's email: alice@example.com\n"
      ]
    },
    {
      "cell_type": "markdown",
      "metadata": {
        "id": "YV2gedgZvH0B"
      },
      "source": [
        "Nested dictionaries are particularly useful when dealing with JSON data from APIs or when representing data that has multiple layers of attributes."
      ]
    },
    {
      "cell_type": "markdown",
      "metadata": {
        "id": "FLkXQnDkvP3p"
      },
      "source": [
        "**17.) Describe time complexity of accessing elements in a  dictionary.**\n",
        "Answer)Accessing elements in a dictionary in Python is generally very efficient due to its underlying hash table implementation. Here are the key points:\n",
        "\n",
        "Average Case:\n",
        "Retrieving an element by its key typically has a time complexity of O(1), meaning it takes constant time regardless of the size of the dictionary. This efficiency is due to the use of hashing, which allows Python to compute an index directly from the key.\n",
        "\n",
        "Worst Case:\n",
        "In rare scenarios where many keys hash to the same value (causing collisions), the access time can degrade to O(n). However, Python's dictionary implementation uses techniques such as dynamic resizing and collision resolution (like open addressing) to minimize these collisions, so the worst-case scenario is uncommon in practice.\n",
        "\n",
        "Summary\n",
        "Average-case time complexity: O(1)\n",
        "\n",
        "Worst-case time complexity: O(n) (rare, due to hash collisions)\n",
        "\n",
        "This design is one of the reasons dictionaries are preferred when fast lookup, insertion, and deletion of data are required."
      ]
    },
    {
      "cell_type": "markdown",
      "metadata": {
        "id": "AsS9ZWy-vsxS"
      },
      "source": [
        "**18.) In what situations are lists  preferred over dictionaries.**\n",
        "Answer)Lists are preferred over dictionaries in several situations where the nature of the data and the operations you need to perform are better suited to a sequential, ordered collection. Here are some common scenarios:\n",
        "\n",
        "Ordered Data:\n",
        "Lists maintain the order of elements. If the order is important—for example, when processing sequences of events, logs, or steps in a procedure—lists are a natural choice.\n",
        "\n",
        "Indexed Access by Position:\n",
        "When you need to access items by their position (i.e., index) rather than by a unique key, lists provide direct access using integer indices. This is useful in cases where the position of an element is significant.\n",
        "\n",
        "Allowing Duplicates:\n",
        "Lists can contain duplicate values, whereas dictionaries require unique keys. If your data may include repeated items, lists are more appropriate.\n",
        "\n",
        "Simplicity and Lower Overhead:\n",
        "Lists are simpler data structures with lower memory overhead compared to dictionaries. When you don't need key-value pairs or fast key-based lookups, using a list can be more efficient in terms of both performance and clarity.\n",
        "\n",
        "Iteration Over a Sequence:\n",
        "If you simply need to iterate over a collection of items in a specific order, lists are well-suited for this task. Their sequential nature makes operations like slicing and iterating straightforward."
      ]
    },
    {
      "cell_type": "code",
      "execution_count": null,
      "metadata": {
        "colab": {
          "base_uri": "https://localhost:8080/"
        },
        "id": "nNWTmfx0wH-J",
        "outputId": "97066bc9-6141-4a76-a7ab-b39372be3d1c"
      },
      "outputs": [
        {
          "name": "stdout",
          "output_type": "stream",
          "text": [
            "Pour batter into the pan\n"
          ]
        }
      ],
      "source": [
        "# Example - Suppose you are managing a series of steps in a recipe:\n",
        "steps = [\n",
        "    \"Preheat the oven to 375°F\",\n",
        "    \"Mix flour, sugar, and eggs\",\n",
        "    \"Pour batter into the pan\",\n",
        "    \"Bake for 25 minutes\"\n",
        "]\n",
        "\n",
        "# Accessing the third step (index 2)\n",
        "print(steps[2])  # Output: Pour batter into the pan\n"
      ]
    },
    {
      "cell_type": "markdown",
      "metadata": {
        "id": "wPkITu77wUb0"
      },
      "source": [
        "In this case, the order is essential, and you don't need to associate each step with a specific key—only its position matters.\n",
        "\n",
        "In contrast, dictionaries are typically used when you need to map unique keys to values, support fast key-based lookups, or represent more complex associations between data points.\n",
        "\n",
        "By choosing lists over dictionaries when order and positional access are paramount, you make your code simpler, more intuitive, and efficient for the given task."
      ]
    },
    {
      "cell_type": "markdown",
      "metadata": {
        "id": "1WtQqqvnwXWV"
      },
      "source": []
    },
    {
      "cell_type": "markdown",
      "metadata": {
        "id": "-2chynAswcRJ"
      },
      "source": [
        "**19.) Why are dictionaries considered unordered, and  how does that effect data  retrieval.**\n",
        "Answer)Dictionaries in Python are often described as unordered because their primary purpose is to store key-value pairs in a way that allows for very fast lookups, regardless of the order in which the items were added. Here’s what that means and how it affects data retrieval:\n",
        "\n",
        "i) Historical Perspective on \"Unordered\"\n",
        "Before Python 3.7:\n",
        "Dictionaries did not maintain any guaranteed order. The items were stored based on their hash values, and the order in which keys appeared could change unpredictably between different runs of a program.\n",
        "\n",
        "Python 3.7 and Later:\n",
        "While dictionaries now preserve insertion order as an implementation detail (and officially in Python 3.8+), they are still conceptually considered unordered. This means that the order should not be relied upon for data retrieval operations; rather, keys are accessed directly through hashing.\n",
        "\n",
        "ii)How Data Retrieval Works\n",
        "Hash Table Mechanism:\n",
        "Dictionaries use a hash table to store keys. When you try to retrieve a value using a key, Python computes the hash of the key and uses it to directly locate the memory address where the value is stored. This process does not depend on the order of insertion but on the computed hash.\n",
        "\n",
        "Constant-Time Access:\n",
        "Because of the hash table implementation, the average time complexity for retrieving a value by key is O(1). The lookup process is fast and efficient, as it does not need to iterate over elements in any particular order.\n",
        "\n",
        "Insertion Order vs. Retrieval Order:\n",
        "Even though dictionaries now keep track of the order in which keys were added, this ordering is irrelevant for lookup operations. When you access a value by its key (using dict[key]), Python uses the key’s hash to locate the value directly rather than iterating over the dictionary.\n",
        "\n",
        "iii)Impact on Data Retrieval\n",
        "Efficiency Remains Unchanged:\n",
        "The notion of “unordered” does not affect the efficiency of data retrieval. Whether or not the dictionary maintains insertion order, the lookup process is driven by the hash function, leading to an average-case time complexity of O(1).\n",
        "\n",
        "No Assumptions About Order:\n",
        "Since dictionaries are fundamentally designed for fast key-based access, any ordering that might appear is incidental to their internal mechanism. This means that if you need to work with data in a particular order, you might need to extract and sort the keys or values separately.\n",
        "\n",
        "We can summarize  as :\n",
        "Unordered Nature: Historically, dictionaries did not maintain order, and even with the recent changes, their primary focus is on fast access via hashing rather than maintaining a sorted or predictable order.\n",
        "\n",
        "Data Retrieval: Lookup operations remain extremely efficient (average O(1)), as they rely on the computed hash of the key, not on the order of insertion.\n",
        "\n",
        "Therefore,understanding this distinction helps in selecting the appropriate data structure. When you need fast, key-based access without concern for order, dictionaries are ideal. If you require order, you might need to use other structures or sort the data after retrieval.\n",
        "\n",
        "\n",
        "\n",
        "\n",
        "\n",
        "\n",
        "\n"
      ]
    },
    {
      "cell_type": "markdown",
      "metadata": {
        "id": "eGMl7q13xist"
      },
      "source": [
        "**20.) Explain the difference between the a list and a dictionary in terms of data retrieval.**\n",
        "Answer)When comparing lists and dictionaries in Python, the main differences in data retrieval stem from how they store data and the way you access elements.\n",
        "\n",
        "Lists\n",
        "Index-Based Access:\n",
        "Lists store elements in a sequence, and you can retrieve an element directly by its index. This operation is very fast, with a time complexity of O(1)."
      ]
    },
    {
      "cell_type": "code",
      "execution_count": null,
      "metadata": {
        "colab": {
          "base_uri": "https://localhost:8080/"
        },
        "id": "M2i_IckFx4te",
        "outputId": "5f60575d-c7ce-4915-a6ec-0ee17ee2e75e"
      },
      "outputs": [
        {
          "name": "stdout",
          "output_type": "stream",
          "text": [
            "banana\n"
          ]
        }
      ],
      "source": [
        "# Example\n",
        "my_list = ['apple', 'banana', 'cherry']\n",
        "print(my_list[1])  # Output: banana\n"
      ]
    },
    {
      "cell_type": "markdown",
      "metadata": {
        "id": "eoVF1136x_kX"
      },
      "source": [
        "Searching by Value:\n",
        "If you need to check if a specific value exists in a list or to find its position, Python performs a linear search. This has a time complexity of O(n), where n is the number of elements."
      ]
    },
    {
      "cell_type": "code",
      "execution_count": null,
      "metadata": {
        "colab": {
          "base_uri": "https://localhost:8080/"
        },
        "id": "44rGZc4gyCQF",
        "outputId": "f6546697-b98c-43fb-e4ed-33303effbaf2"
      },
      "outputs": [
        {
          "name": "stdout",
          "output_type": "stream",
          "text": [
            "True\n"
          ]
        }
      ],
      "source": [
        "# Example\n",
        "# Checking membership (O(n) time complexity)\n",
        "print('banana' in my_list)  # True\n"
      ]
    },
    {
      "cell_type": "markdown",
      "metadata": {
        "id": "hWPkx8ygyN0w"
      },
      "source": [
        "Order Matters:\n",
        "Lists maintain the order of elements, which is useful when the sequence itself is important.\n",
        "\n",
        "Dictionaries\n",
        "Key-Based Access:\n",
        "Dictionaries store data as key-value pairs, and you retrieve a value by its corresponding key. This access is typically very fast, with an average time complexity of O(1) because of the underlying hash table mechanism."
      ]
    },
    {
      "cell_type": "code",
      "execution_count": null,
      "metadata": {
        "colab": {
          "base_uri": "https://localhost:8080/"
        },
        "id": "gcmxNThdySNO",
        "outputId": "9d57bf63-f2a9-454e-c8d4-6f9fc9fa5191"
      },
      "outputs": [
        {
          "name": "stdout",
          "output_type": "stream",
          "text": [
            "banana\n"
          ]
        }
      ],
      "source": [
        "# example\n",
        "my_dict = {'a': 'apple', 'b': 'banana', 'c': 'cherry'}\n",
        "print(my_dict['b'])  # Output: banana\n"
      ]
    },
    {
      "cell_type": "markdown",
      "metadata": {
        "id": "LsVsR8r3yYY7"
      },
      "source": [
        "Searching for Keys vs. Values:\n",
        "The in keyword checks for the presence of keys in a dictionary. Checking if a key exists is efficient (O(1)), but if you need to search for a value, you may have to iterate over all values, which is slower."
      ]
    },
    {
      "cell_type": "code",
      "execution_count": null,
      "metadata": {
        "colab": {
          "base_uri": "https://localhost:8080/"
        },
        "id": "cmCz0U2ryd0P",
        "outputId": "d6fab26a-6d17-4211-af1d-ca89da41ed9a"
      },
      "outputs": [
        {
          "name": "stdout",
          "output_type": "stream",
          "text": [
            "True\n",
            "True\n"
          ]
        }
      ],
      "source": [
        "# example\n",
        "# Efficient key lookup\n",
        "print('a' in my_dict)  # True\n",
        "\n",
        "# Searching for a value (O(n) time complexity)\n",
        "print('banana' in my_dict.values())  # True\n"
      ]
    },
    {
      "cell_type": "markdown",
      "metadata": {
        "id": "PIWI3VNEym_L"
      },
      "source": [
        "No Inherent Order for Retrieval:\n",
        "Although modern Python versions maintain insertion order, dictionaries are designed for fast lookup based on keys rather than order. The order is incidental and does not affect the lookup speed.\n",
        "\n",
        "Summary of Key Differences\n",
        "Access Method:\n",
        "\n",
        "Lists: Access elements by integer index.\n",
        "\n",
        "Dictionaries: Access elements by unique keys.\n",
        "\n",
        "Performance:\n",
        "\n",
        "Lists: Fast (O(1)) for index-based access; slower (O(n)) for searching by value.\n",
        "\n",
        "Dictionaries: Fast (O(1) average) for key lookups due to hashing.\n",
        "\n",
        "Usage Context:\n",
        "\n",
        "Lists: Ideal when order matters or when you need to process elements in sequence.\n",
        "\n",
        "Dictionaries: Best for scenarios where you require fast retrieval based on unique keys.\n",
        "\n",
        "In summary, if you need to quickly access elements by a position, lists are appropriate. However, if you need rapid lookup by a key and don’t rely on the order of elements, dictionaries are the better choice.\n",
        "\n",
        "\n",
        "\n",
        "\n",
        "\n",
        "\n",
        "\n"
      ]
    },
    {
      "cell_type": "markdown",
      "metadata": {
        "id": "_S69AGxxyy5L"
      },
      "source": [
        "**PRACTICAL QUESTIONS**\n",
        "\n",
        "**1.) Write a code to create  a string with your name and print it.**"
      ]
    },
    {
      "cell_type": "code",
      "execution_count": null,
      "metadata": {
        "colab": {
          "base_uri": "https://localhost:8080/"
        },
        "id": "7X0BT2vHzEr8",
        "outputId": "aeadba9d-81ee-4288-ae23-bb447a7ed6cb"
      },
      "outputs": [
        {
          "name": "stdout",
          "output_type": "stream",
          "text": [
            "Ramya\n"
          ]
        }
      ],
      "source": [
        " # code   to get the output with  my name\n",
        "name = \"Ramya\"\n",
        "print(name)"
      ]
    },
    {
      "cell_type": "markdown",
      "metadata": {
        "id": "eHmOFEp7zN6O"
      },
      "source": [
        "**2.)Write a code to find the length of the  string \"Hello World\"**"
      ]
    },
    {
      "cell_type": "code",
      "execution_count": null,
      "metadata": {
        "colab": {
          "base_uri": "https://localhost:8080/"
        },
        "id": "xcheS0vm2xGp",
        "outputId": "69dab9ca-0a28-4cc5-82ed-8ee5dedd730b"
      },
      "outputs": [
        {
          "data": {
            "text/plain": [
              "11"
            ]
          },
          "execution_count": 41,
          "metadata": {},
          "output_type": "execute_result"
        }
      ],
      "source": [
        "# program to find the length of the string \"Hello World\"\n",
        "\n",
        "my_string = \"Hello World\"\n",
        "string_length = len(my_string)\n",
        "string_length\n"
      ]
    },
    {
      "cell_type": "markdown",
      "metadata": {
        "id": "h8PC4gIE2-qj"
      },
      "source": [
        "**3.) Write a code to slice the first three characters from the string \"Python Programming\"**"
      ]
    },
    {
      "cell_type": "markdown",
      "metadata": {
        "id": "1Paj14HGrotv"
      },
      "source": []
    },
    {
      "cell_type": "code",
      "execution_count": null,
      "metadata": {
        "colab": {
          "base_uri": "https://localhost:8080/",
          "height": 35
        },
        "id": "3naA3ZpA3XBZ",
        "outputId": "dc1e3848-18d0-4c56-d438-3dfe3ec60726"
      },
      "outputs": [
        {
          "data": {
            "application/vnd.google.colaboratory.intrinsic+json": {
              "type": "string"
            },
            "text/plain": [
              "'pyt'"
            ]
          },
          "execution_count": 42,
          "metadata": {},
          "output_type": "execute_result"
        }
      ],
      "source": [
        "# program to slice first three characters from string \"python programming\"\n",
        "\n",
        "string = \"python programming\"\n",
        "sliced_string = string[:3]\n",
        "sliced_string\n"
      ]
    },
    {
      "cell_type": "markdown",
      "metadata": {
        "id": "pN_43VK73b8f"
      },
      "source": [
        "**4.) Write a code to convert the string \"hello\" to Upper Case.**"
      ]
    },
    {
      "cell_type": "code",
      "execution_count": null,
      "metadata": {
        "colab": {
          "base_uri": "https://localhost:8080/",
          "height": 35
        },
        "id": "-GKwpGti3mvA",
        "outputId": "abd690cd-729c-4d43-e0cb-d7cf54f7b201"
      },
      "outputs": [
        {
          "data": {
            "application/vnd.google.colaboratory.intrinsic+json": {
              "type": "string"
            },
            "text/plain": [
              "'HELLO'"
            ]
          },
          "execution_count": 43,
          "metadata": {},
          "output_type": "execute_result"
        }
      ],
      "source": [
        "# program to convert the string \"hello\" to Upper Case\n",
        "\n",
        "string = \"hello\"\n",
        "uppercase_string = string.upper()\n",
        "uppercase_string\n"
      ]
    },
    {
      "cell_type": "markdown",
      "metadata": {
        "id": "jv7NcL8O39Ll"
      },
      "source": [
        "**5.)Write a code to replace the  word \"apple\" with \"orange\" in the string \"I like apple\"**"
      ]
    },
    {
      "cell_type": "code",
      "execution_count": null,
      "metadata": {
        "id": "j_QwVqomLprW"
      },
      "outputs": [],
      "source": []
    },
    {
      "cell_type": "code",
      "execution_count": null,
      "metadata": {
        "colab": {
          "base_uri": "https://localhost:8080/"
        },
        "id": "iVy1T4yc4SHM",
        "outputId": "26023388-6aeb-4f90-a669-03d0c64a7417"
      },
      "outputs": [
        {
          "name": "stdout",
          "output_type": "stream",
          "text": [
            "I like orange\n"
          ]
        }
      ],
      "source": [
        "# program to replace the word \"apple\" with \"orange\" in the string \"I like apple\"\n",
        "\n",
        "my_string = \"I like apple\"\n",
        "new_string = my_string.replace(\"apple\", \"orange\")\n",
        "print(new_string)\n"
      ]
    },
    {
      "cell_type": "markdown",
      "metadata": {
        "id": "T0tjm3Ui4i0r"
      },
      "source": [
        "**6.) Write a code to  create list with numbers 1 to 5 and print it.**"
      ]
    },
    {
      "cell_type": "code",
      "execution_count": null,
      "metadata": {
        "colab": {
          "base_uri": "https://localhost:8080/"
        },
        "id": "F1qiXZD85S8_",
        "outputId": "15e18f72-f86c-4567-b7da-ff1ecc798e85"
      },
      "outputs": [
        {
          "name": "stdout",
          "output_type": "stream",
          "text": [
            "[1, 2, 3, 4, 5]\n"
          ]
        }
      ],
      "source": [
        "# python code to Create a list with numbers 1 to 5\n",
        "numbers = [1, 2, 3, 4, 5]\n",
        "\n",
        "# Print the list\n",
        "print(numbers)\n"
      ]
    },
    {
      "cell_type": "markdown",
      "metadata": {
        "id": "gUbByW8b5e6I"
      },
      "source": [
        "**7.)Write a code to append the number 10 to the list [1, 2, 3, 4]**"
      ]
    },
    {
      "cell_type": "code",
      "execution_count": null,
      "metadata": {
        "colab": {
          "base_uri": "https://localhost:8080/"
        },
        "id": "0ClTuNCS5r-0",
        "outputId": "6cf6a8af-8764-4b6d-af1a-5131dae0dcf1"
      },
      "outputs": [
        {
          "data": {
            "text/plain": [
              "[1, 2, 3, 4, 10]"
            ]
          },
          "execution_count": 49,
          "metadata": {},
          "output_type": "execute_result"
        }
      ],
      "source": [
        "# python code to append the number 10 to the list [1, 2, 3, 4]\n",
        "\n",
        "my_list = [1, 2, 3, 4]\n",
        "my_list.append(10)\n",
        "my_list\n"
      ]
    },
    {
      "cell_type": "markdown",
      "metadata": {
        "id": "8uogyPQn50ba"
      },
      "source": [
        "**8.) Write a code to remove the  number 3 from the  list [1,2,3,4,5]**"
      ]
    },
    {
      "cell_type": "code",
      "execution_count": null,
      "metadata": {
        "colab": {
          "base_uri": "https://localhost:8080/"
        },
        "id": "Om62r5WR6APc",
        "outputId": "4d6b7199-101d-4f70-98f9-7bca122abb74"
      },
      "outputs": [
        {
          "data": {
            "text/plain": [
              "[1, 2, 4, 5]"
            ]
          },
          "execution_count": 50,
          "metadata": {},
          "output_type": "execute_result"
        }
      ],
      "source": [
        "# python code to remove the number 3 from the list [1,2,3,4,5]\n",
        "\n",
        "my_list = [1, 2, 3, 4, 5]\n",
        "my_list.remove(3)\n",
        "my_list\n"
      ]
    },
    {
      "cell_type": "markdown",
      "metadata": {
        "id": "vKiWNaYh6LYk"
      },
      "source": [
        "**9.) Write a code to access second element from the list ['a','b','c','d'].**"
      ]
    },
    {
      "cell_type": "code",
      "execution_count": null,
      "metadata": {
        "colab": {
          "base_uri": "https://localhost:8080/",
          "height": 35
        },
        "id": "NHTmx65x6V6o",
        "outputId": "b887a801-0d9e-4538-e549-030e807291aa"
      },
      "outputs": [
        {
          "data": {
            "application/vnd.google.colaboratory.intrinsic+json": {
              "type": "string"
            },
            "text/plain": [
              "'b'"
            ]
          },
          "execution_count": 51,
          "metadata": {},
          "output_type": "execute_result"
        }
      ],
      "source": [
        "# python code to access second element from the list ['a','b','c','d'].\n",
        "\n",
        "my_list = ['a', 'b', 'c', 'd']\n",
        "second_element = my_list[1]\n",
        "second_element\n"
      ]
    },
    {
      "cell_type": "markdown",
      "metadata": {
        "id": "8mH4mp4d6o9P"
      },
      "source": [
        "**10.)Write  a code to reverse the list[10, 20, 30, 40, 50]**"
      ]
    },
    {
      "cell_type": "code",
      "execution_count": null,
      "metadata": {
        "colab": {
          "base_uri": "https://localhost:8080/"
        },
        "id": "DRT_PLGm6znX",
        "outputId": "c0c91b9b-8c59-4dea-b948-32d13f59d2f9"
      },
      "outputs": [
        {
          "data": {
            "text/plain": [
              "[50, 40, 30, 20, 10]"
            ]
          },
          "execution_count": 52,
          "metadata": {},
          "output_type": "execute_result"
        }
      ],
      "source": [
        "# python code to reverse the list[10, 20, 30, 40, 50]\n",
        "\n",
        "my_list = [10, 20, 30, 40, 50]\n",
        "reversed_list = my_list[::-1]\n",
        "reversed_list\n"
      ]
    },
    {
      "cell_type": "markdown",
      "metadata": {
        "id": "qDhPDBre7FV9"
      },
      "source": [
        "**11.)Write a code to create a tuple with the elements 100,200,300 and print it.**"
      ]
    },
    {
      "cell_type": "code",
      "execution_count": null,
      "metadata": {
        "colab": {
          "base_uri": "https://localhost:8080/"
        },
        "id": "NEUaiwnq7fFz",
        "outputId": "b164a9ab-5dd6-4dd7-b9da-ef9165c2c622"
      },
      "outputs": [
        {
          "data": {
            "text/plain": [
              "(100, 200, 300)"
            ]
          },
          "execution_count": 53,
          "metadata": {},
          "output_type": "execute_result"
        }
      ],
      "source": [
        "# tuple with the elements 100,200,300 and print it\n",
        "\n",
        "my_tuple = (100, 200, 300)\n",
        "my_tuple\n"
      ]
    },
    {
      "cell_type": "markdown",
      "metadata": {
        "id": "1_w3nIDs7qa5"
      },
      "source": [
        "**12.)Write a code to access the second-to-last element of the tuple ('red','green','blue','yellow')**"
      ]
    },
    {
      "cell_type": "code",
      "execution_count": null,
      "metadata": {
        "colab": {
          "base_uri": "https://localhost:8080/",
          "height": 35
        },
        "id": "RucY_uXJ8TYk",
        "outputId": "16d7a37f-ea90-4018-81b2-84bb78dffb98"
      },
      "outputs": [
        {
          "data": {
            "application/vnd.google.colaboratory.intrinsic+json": {
              "type": "string"
            },
            "text/plain": [
              "'blue'"
            ]
          },
          "execution_count": 54,
          "metadata": {},
          "output_type": "execute_result"
        }
      ],
      "source": [
        "# code to access the second-to-last element of the tuple ('red','green','blue','yellow')\n",
        "\n",
        "my_tuple = ('red', 'green', 'blue', 'yellow')\n",
        "second_to_last_element = my_tuple[-2]\n",
        "second_to_last_element\n"
      ]
    },
    {
      "cell_type": "markdown",
      "metadata": {
        "id": "8iC2DhNB8f_T"
      },
      "source": [
        "**13.) Write a code to access the minimum number in the tuple  (10,20,5,15)**"
      ]
    },
    {
      "cell_type": "code",
      "execution_count": null,
      "metadata": {
        "colab": {
          "base_uri": "https://localhost:8080/"
        },
        "id": "3kRJsHfJ8sOp",
        "outputId": "9169d238-0709-4900-fb11-5433e92ab49b"
      },
      "outputs": [
        {
          "data": {
            "text/plain": [
              "5"
            ]
          },
          "execution_count": 55,
          "metadata": {},
          "output_type": "execute_result"
        }
      ],
      "source": [
        "# code to access the minimum number in the tuple  (10,20,5,15)\n",
        "\n",
        "my_tuple = (10, 20, 5, 15)\n",
        "minimum_number = min(my_tuple)\n",
        "minimum_number"
      ]
    },
    {
      "cell_type": "markdown",
      "metadata": {
        "id": "YN0DLnNs8zJt"
      },
      "source": [
        "**14.)Write a code to find the index of the  element \"cat\" in the tuple('dog','cat','rabbit')   **"
      ]
    },
    {
      "cell_type": "code",
      "execution_count": null,
      "metadata": {
        "colab": {
          "base_uri": "https://localhost:8080/"
        },
        "id": "L15YYkaU9dFi",
        "outputId": "a1a36678-a641-4256-f7c9-00b0236b075d"
      },
      "outputs": [
        {
          "name": "stdout",
          "output_type": "stream",
          "text": [
            "1\n"
          ]
        }
      ],
      "source": [
        "# code to find the index of the cat\n",
        "animals = ('dog', 'cat', 'rabbit')\n",
        "index_of_cat = animals.index('cat')\n",
        "print(index_of_cat)  # Output: 1\n"
      ]
    },
    {
      "cell_type": "markdown",
      "metadata": {
        "id": "vRv3hgST9m6W"
      },
      "source": [
        "**15.)Write a code to create a tuple containing three different  fruits and check if \"kiwi\" is in it. **"
      ]
    },
    {
      "cell_type": "code",
      "execution_count": null,
      "metadata": {
        "colab": {
          "base_uri": "https://localhost:8080/"
        },
        "id": "hUDLyELA-LVh",
        "outputId": "c083aa57-22d0-464d-f6b3-08240d161262"
      },
      "outputs": [
        {
          "name": "stdout",
          "output_type": "stream",
          "text": [
            "Kiwi is not in the tuple.\n"
          ]
        }
      ],
      "source": [
        "# program 1 :  Create a tuple with three different fruits\n",
        "fruits = ('apple', 'banana', 'orange')\n",
        "\n",
        "# Check if \"kiwi\" is in the tuple\n",
        "if \"kiwi\" in fruits:\n",
        "    print(\"Kiwi is in the tuple.\")\n",
        "else:\n",
        "    print(\"Kiwi is not in the tuple.\")\n"
      ]
    },
    {
      "cell_type": "code",
      "execution_count": null,
      "metadata": {
        "colab": {
          "base_uri": "https://localhost:8080/"
        },
        "id": "Q8u1CIYl-W-B",
        "outputId": "cb5550d2-2c76-4fbb-e94d-54aae1847702"
      },
      "outputs": [
        {
          "name": "stdout",
          "output_type": "stream",
          "text": [
            "Kiwi is in the tuple.\n"
          ]
        }
      ],
      "source": [
        "#program2 :  Create a tuple with three different fruits\n",
        "fruits = ('kiwi', 'banana', 'orange')\n",
        "\n",
        "# Check if \"kiwi\" is in the tuple\n",
        "if \"kiwi\" in fruits:\n",
        "    print(\"Kiwi is in the tuple.\")\n",
        "else:\n",
        "    print(\"Kiwi is not in the tuple.\")\n"
      ]
    },
    {
      "cell_type": "markdown",
      "metadata": {
        "id": "nJiaL-Rl-mw-"
      },
      "source": [
        "**16.)Write a code to create a set with the elements  'a','b','c' and print it.**"
      ]
    },
    {
      "cell_type": "code",
      "execution_count": null,
      "metadata": {
        "colab": {
          "base_uri": "https://localhost:8080/"
        },
        "id": "Pp-W57o7_Tmj",
        "outputId": "3092cfa1-f8f8-4c20-d83b-68efe85c6b33"
      },
      "outputs": [
        {
          "data": {
            "text/plain": [
              "{'a', 'b', 'c'}"
            ]
          },
          "execution_count": 61,
          "metadata": {},
          "output_type": "execute_result"
        }
      ],
      "source": [
        "# Create a set with elements 'a', 'b', 'c'\n",
        "my_set = {'a', 'b', 'c'}\n",
        "\n",
        "# Print the set\n",
        "my_set\n"
      ]
    },
    {
      "cell_type": "markdown",
      "metadata": {
        "id": "-4LIVCMS_j6E"
      },
      "source": [
        "***17.) Write a code to clear all the elements from the  set {1,2,3,4,5}***"
      ]
    },
    {
      "cell_type": "code",
      "execution_count": null,
      "metadata": {
        "colab": {
          "base_uri": "https://localhost:8080/"
        },
        "id": "7uNPXucW_03M",
        "outputId": "32e92b39-f09e-4acd-92d9-f75dc578693d"
      },
      "outputs": [
        {
          "name": "stdout",
          "output_type": "stream",
          "text": [
            "set()\n"
          ]
        }
      ],
      "source": [
        "# code to clear all the elements in the  set\n",
        "# Create a set with elements 1, 2, 3, 4, 5\n",
        "my_set = {1, 2, 3, 4, 5}\n",
        "\n",
        "# Clear all elements from the set\n",
        "my_set.clear()\n",
        "\n",
        "# Print the now-empty set\n",
        "print(my_set)  # Output: set()\n"
      ]
    },
    {
      "cell_type": "markdown",
      "metadata": {
        "id": "nbOthHoYACCZ"
      },
      "source": [
        "**18.) Write a code to remove the element 4 from the set {1,2,3,4}**"
      ]
    },
    {
      "cell_type": "code",
      "execution_count": null,
      "metadata": {
        "colab": {
          "base_uri": "https://localhost:8080/"
        },
        "id": "XV7i67EtANsR",
        "outputId": "f0104052-d491-4347-d73b-2992b9ce6bf4"
      },
      "outputs": [
        {
          "name": "stdout",
          "output_type": "stream",
          "text": [
            "{1, 2, 3}\n"
          ]
        }
      ],
      "source": [
        "# code to remove the element 4 from the set {1,2,3,4}\n",
        "# Create a set with elements 1, 2, 3, 4\n",
        "my_set = {1, 2, 3, 4}\n",
        "\n",
        "# Remove the element 4 from the set\n",
        "my_set.remove(4)\n",
        "\n",
        "# Print the modified set\n",
        "print(my_set)  # Output: {1, 2, 3}\n"
      ]
    },
    {
      "cell_type": "markdown",
      "metadata": {
        "id": "bgrtGWzFAf2K"
      },
      "source": [
        "**19.) Write a code to find the union of  the  two sets{1,2,3} and {3,4,5}**"
      ]
    },
    {
      "cell_type": "code",
      "execution_count": null,
      "metadata": {
        "colab": {
          "base_uri": "https://localhost:8080/"
        },
        "id": "32oA-SqCAsW7",
        "outputId": "5048370d-cbc9-4bd2-9df5-7a4d21fb0fc0"
      },
      "outputs": [
        {
          "name": "stdout",
          "output_type": "stream",
          "text": [
            "{1, 2, 3, 4, 5}\n"
          ]
        }
      ],
      "source": [
        "#code to find the union of  the  two sets{1,2,3} and {3,4,5}\n",
        "# Define the two sets\n",
        "set1 = {1, 2, 3}\n",
        "set2 = {3, 4, 5}\n",
        "\n",
        "# Get the union of the two sets using the union() method\n",
        "union_set = set1.union(set2)\n",
        "\n",
        "\n",
        "# union_set = set1 | set2\n",
        "\n",
        "# Print the union of the two sets\n",
        "print(union_set)  # Output: {1, 2, 3, 4, 5}\n"
      ]
    },
    {
      "cell_type": "markdown",
      "metadata": {
        "id": "FvML6XOdA-B3"
      },
      "source": [
        "***20.) Write a code to find the intersection of the  two sets {1,2,3} and {2,3,4}***"
      ]
    },
    {
      "cell_type": "code",
      "execution_count": null,
      "metadata": {
        "colab": {
          "base_uri": "https://localhost:8080/"
        },
        "id": "0sweoDEuBLLw",
        "outputId": "6a6c7c9f-ded0-49ee-ad8e-2ba3cd62dc00"
      },
      "outputs": [
        {
          "name": "stdout",
          "output_type": "stream",
          "text": [
            "{2, 3}\n"
          ]
        }
      ],
      "source": [
        "#  code to get the intersection of the two sets {1,2,3} and {2,3,4}\n",
        "# Define the two sets\n",
        "set1 = {1, 2, 3}\n",
        "set2 = {2, 3, 4}\n",
        "\n",
        "# Get the intersection of the two sets using the intersection() method\n",
        "intersection_set = set1.intersection(set2)\n",
        "\n",
        "# intersection_set = set1 & set2\n",
        "\n",
        "# Print the intersection of the two sets\n",
        "print(intersection_set)  # Output: {2, 3}\n"
      ]
    },
    {
      "cell_type": "markdown",
      "metadata": {
        "id": "wrmyWffeBkLO"
      },
      "source": [
        "**21.)Write a code to create a dictionary with the  keys  \"name\",\"age\" and \"city\" and print it.**"
      ]
    },
    {
      "cell_type": "code",
      "execution_count": null,
      "metadata": {
        "colab": {
          "base_uri": "https://localhost:8080/"
        },
        "id": "o4vQY3z7B3n1",
        "outputId": "3a729322-ef47-42af-ce48-0227b7051669"
      },
      "outputs": [
        {
          "name": "stdout",
          "output_type": "stream",
          "text": [
            "{'name': 'Alice', 'age': 30, 'city': 'New York'}\n"
          ]
        }
      ],
      "source": [
        "# code to create a dictionary with the  keys  \"name\",\"age\" and \"city\" and print it.\n",
        "# Create a dictionary with keys \"name\", \"age\", and \"city\"\n",
        "person = {\n",
        "    \"name\": \"Alice\",\n",
        "    \"age\": 30,\n",
        "    \"city\": \"New York\"\n",
        "}\n",
        "\n",
        "# Print the dictionary\n",
        "print(person)\n"
      ]
    },
    {
      "cell_type": "markdown",
      "metadata": {
        "id": "GIaOERHjCDRM"
      },
      "source": [
        "**22.) Write a code to add a new key-value pair \"country\":\"USA\" to the dictionary {'name':'John','age':25}.**"
      ]
    },
    {
      "cell_type": "code",
      "execution_count": null,
      "metadata": {
        "colab": {
          "base_uri": "https://localhost:8080/"
        },
        "id": "5rfsQKlADgHj",
        "outputId": "419af9ca-49b4-4bd8-e430-b06b15c56477"
      },
      "outputs": [
        {
          "name": "stdout",
          "output_type": "stream",
          "text": [
            "{'name': 'John', 'age': 25, 'country': 'USA'}\n"
          ]
        }
      ],
      "source": [
        "#code to add a new key-value pair \"country\":\"USA\" to the dictionary {'name':'John','age':25}.\n",
        "# Create the initial dictionary\n",
        "person = {'name': 'John', 'age': 25}\n",
        "\n",
        "# Add the new key-value pair \"country\": \"USA\"\n",
        "person['country'] = 'USA'\n",
        "\n",
        "# Print the updated dictionary\n",
        "print(person)\n"
      ]
    },
    {
      "cell_type": "markdown",
      "metadata": {
        "id": "xf2DbjO4Dqld"
      },
      "source": [
        "**23.)Write a code to access the value associated with the key \"name\"  in the dictionary {'name':'Alice','age':30}.      **"
      ]
    },
    {
      "cell_type": "code",
      "execution_count": null,
      "metadata": {
        "colab": {
          "base_uri": "https://localhost:8080/"
        },
        "id": "uQ_LZGjODp6R",
        "outputId": "d2e8e074-2745-427c-dd4e-d375972749d9"
      },
      "outputs": [
        {
          "name": "stdout",
          "output_type": "stream",
          "text": [
            "Alice\n"
          ]
        }
      ],
      "source": [
        "# code to access the value associated with the key \"name\"  in the dictionary {'name':'Alice','age':30}.\n",
        "# Define the dictionary\n",
        "person = {'name': 'Alice', 'age': 30}\n",
        "\n",
        "# Access the value associated with the key \"name\"\n",
        "name_value = person['name']\n",
        "\n",
        "# Print the value\n",
        "print(name_value)  # Output: Alice\n"
      ]
    },
    {
      "cell_type": "markdown",
      "metadata": {
        "id": "11X_maeqEYd6"
      },
      "source": [
        "**24.) Write a code to remove the  key \"age\" from the  dictionary {'name':'Bob','age':22,'city' :'New York'}.**"
      ]
    },
    {
      "cell_type": "code",
      "execution_count": null,
      "metadata": {
        "colab": {
          "base_uri": "https://localhost:8080/"
        },
        "id": "33HxVeonEXAR",
        "outputId": "c5561bc4-7e0e-4919-ba0d-dfe671e6e90b"
      },
      "outputs": [
        {
          "name": "stdout",
          "output_type": "stream",
          "text": [
            "{'name': 'Bob', 'city': 'New York'}\n"
          ]
        }
      ],
      "source": [
        "#  code to remove the  key \"age\" from the  dictionary {'name':'Bob','age':22,'city' :'New York'}.\n",
        "# Define the dictionary\n",
        "person = {'name': 'Bob', 'age': 22, 'city': 'New York'}\n",
        "\n",
        "# Remove the key \"age\" using the pop() method\n",
        "person.pop('age')\n",
        "\n",
        "# Alternatively, you could use the 'del' keyword:\n",
        "# del person['age']\n",
        "\n",
        "# Print the updated dictionary\n",
        "print(person)  # Output: {'name': 'Bob', 'city': 'New York'}\n",
        "\n"
      ]
    },
    {
      "cell_type": "markdown",
      "metadata": {
        "id": "TMe-OVJwFf3Y"
      },
      "source": [
        "***25.)Write a code to check if the key \"city\" exists in the  dictionary {'name': 'Alice', 'city': 'Paris'}***"
      ]
    },
    {
      "cell_type": "code",
      "execution_count": null,
      "metadata": {
        "colab": {
          "base_uri": "https://localhost:8080/"
        },
        "id": "6RPHvWlvGO8T",
        "outputId": "bdb2a339-83f5-4e73-9a01-80a40692b62a"
      },
      "outputs": [
        {
          "name": "stdout",
          "output_type": "stream",
          "text": [
            "The key 'city' exists in the dictionary.\n"
          ]
        }
      ],
      "source": [
        "# code to check if the key \"city\" exists in the dictionary {'name': 'Alice', 'city': 'Paris'}\n",
        "# Define the dictionary\n",
        "person = {'name': 'Alice', 'city': 'Paris'}\n",
        "\n",
        "# Check if the key \"city\" exists in the dictionary\n",
        "if 'city' in person:\n",
        "    print(\"The key 'city' exists in the dictionary.\")\n",
        "else:\n",
        "    print(\"The key 'city' does not exist in the dictionary.\")\n"
      ]
    },
    {
      "cell_type": "markdown",
      "metadata": {
        "id": "AzZ76Q3DGfe7"
      },
      "source": [
        "**26.) Write a code to create a list, a tuple, and a dictionary and print them all.**"
      ]
    },
    {
      "cell_type": "code",
      "execution_count": null,
      "metadata": {
        "colab": {
          "base_uri": "https://localhost:8080/"
        },
        "id": "DkH8pI5oGvXK",
        "outputId": "3a9275ec-5243-4cc4-ec22-9e1f311f9608"
      },
      "outputs": [
        {
          "name": "stdout",
          "output_type": "stream",
          "text": [
            "List: [1, 2, 3, 4, 5]\n",
            "Tuple: ('apple', 'banana', 'cherry')\n",
            "Dictionary: {'name': 'Alice', 'age': 30, 'city': 'Paris'}\n"
          ]
        }
      ],
      "source": [
        "# code to create a list, a tuple, and a dictionary and print them all.\n",
        "# Create a list\n",
        "my_list = [1, 2, 3, 4, 5]\n",
        "\n",
        "# Create a tuple\n",
        "my_tuple = ('apple', 'banana', 'cherry')\n",
        "\n",
        "# Create a dictionary\n",
        "my_dict = {'name': 'Alice', 'age': 30, 'city': 'Paris'}\n",
        "\n",
        "# Print the list, tuple, and dictionary\n",
        "print(\"List:\", my_list)\n",
        "print(\"Tuple:\", my_tuple)\n",
        "print(\"Dictionary:\", my_dict)\n"
      ]
    },
    {
      "cell_type": "markdown",
      "metadata": {
        "id": "noe4r1yLG6k1"
      },
      "source": [
        "**27.)Write a code to create a list of 5 random numbers between 1 and 100, sort it in ascending order and print the result (replaced).**"
      ]
    },
    {
      "cell_type": "code",
      "execution_count": null,
      "metadata": {
        "colab": {
          "base_uri": "https://localhost:8080/"
        },
        "id": "VIUzVE1QHXp3",
        "outputId": "29b7a7ba-2f4c-40bb-8d10-0305fd09a5ab"
      },
      "outputs": [
        {
          "data": {
            "text/plain": [
              "[20, 41, 48, 69, 75]"
            ]
          },
          "execution_count": 76,
          "metadata": {},
          "output_type": "execute_result"
        }
      ],
      "source": [
        "# code to create a list of 5 random numbers between 1 and 100, sort it in ascending order and print the result\n",
        "\n",
        "import random\n",
        "\n",
        "# Create a list of 5 random numbers between 1 and 100\n",
        "random_numbers = [random.randint(1, 100) for _ in range(5)]\n",
        "\n",
        "# Sort the list in ascending order\n",
        "random_numbers.sort()\n",
        "\n",
        "# Print the sorted list\n",
        "random_numbers\n"
      ]
    },
    {
      "cell_type": "markdown",
      "metadata": {
        "id": "5Z0ko76OIIrI"
      },
      "source": [
        "**28.) Write a code to create a list with strings and print the  element at the  third index.**"
      ]
    },
    {
      "cell_type": "code",
      "execution_count": null,
      "metadata": {
        "colab": {
          "base_uri": "https://localhost:8080/"
        },
        "id": "8QSOeOeEI6Zw",
        "outputId": "f1181a90-1891-4ced-f237-4b95e14ac60e"
      },
      "outputs": [
        {
          "name": "stdout",
          "output_type": "stream",
          "text": [
            "date\n"
          ]
        }
      ],
      "source": [
        "# code to create a list with strings and print the element at the third index.\n",
        "# Create a list with some strings\n",
        "words = [\"apple\", \"banana\", \"cherry\", \"date\", \"elderberry\"]\n",
        "\n",
        "# Print the element at the third index (index 3)\n",
        "print(words[3])  # Output: date\n"
      ]
    },
    {
      "cell_type": "markdown",
      "metadata": {
        "id": "wHHQsAjzJC3l"
      },
      "source": [
        "**29.) Write a code to combine two dictionaries into one and print the  result.**"
      ]
    },
    {
      "cell_type": "code",
      "execution_count": null,
      "metadata": {
        "colab": {
          "base_uri": "https://localhost:8080/"
        },
        "id": "yYXUIU11JZVR",
        "outputId": "f47f2174-d43d-40f2-94f5-62288f2da91e"
      },
      "outputs": [
        {
          "data": {
            "text/plain": [
              "{'a': 1, 'b': 2, 'c': 3, 'd': 4}"
            ]
          },
          "execution_count": 80,
          "metadata": {},
          "output_type": "execute_result"
        }
      ],
      "source": [
        "#  code to combine two dictionaries into one and print the  result.\n",
        "\n",
        "dict1 = {'a': 1, 'b': 2}\n",
        "dict2 = {'c': 3, 'd': 4}\n",
        "\n",
        "combined_dict = {**dict1, **dict2}\n",
        "\n",
        "combined_dict\n"
      ]
    },
    {
      "cell_type": "markdown",
      "metadata": {
        "id": "8xMAAlAaJoYI"
      },
      "source": [
        "**30.) Write a code to convert a list of strings into a set.**"
      ]
    },
    {
      "cell_type": "code",
      "execution_count": null,
      "metadata": {
        "colab": {
          "base_uri": "https://localhost:8080/"
        },
        "id": "vhCI7xOeJ1jG",
        "outputId": "cfc85edf-df16-46b0-99a4-c30aa2ecb70e"
      },
      "outputs": [
        {
          "name": "stdout",
          "output_type": "stream",
          "text": [
            "{'apple', 'cherry', 'banana'}\n"
          ]
        }
      ],
      "source": [
        "# code to convert a list of strings into a set.\n",
        "\n",
        "# Convert a list of strings into a set.\n",
        "my_list = [\"apple\", \"banana\", \"cherry\", \"apple\", \"banana\"]  # Example list with duplicates\n",
        "\n",
        "my_set = set(my_list) # convert the list to a set to remove the duplicates.\n",
        "\n",
        "print(my_set)  # Output: {'apple', 'banana', 'cherry'}\n"
      ]
    }
  ],
  "metadata": {
    "colab": {
      "provenance": []
    },
    "kernelspec": {
      "display_name": "Python 3",
      "name": "python3"
    },
    "language_info": {
      "name": "python"
    }
  },
  "nbformat": 4,
  "nbformat_minor": 0
}
